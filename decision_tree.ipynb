{
 "cells": [
  {
   "cell_type": "code",
   "execution_count": 97,
   "metadata": {},
   "outputs": [],
   "source": [
    "# Import libraries\n",
    "import pandas as pd\n",
    "from sklearn.model_selection import train_test_split, cross_val_score\n",
    "from sklearn.tree import DecisionTreeClassifier\n",
    "from sklearn import metrics\n",
    "from sklearn.tree import export_graphviz\n",
    "import graphviz\n",
    "from sklearn.preprocessing import LabelEncoder"
   ]
  },
  {
   "cell_type": "code",
   "execution_count": 98,
   "metadata": {},
   "outputs": [
    {
     "name": "stderr",
     "output_type": "stream",
     "text": [
      "c:\\Users\\ADMIN\\anaconda3\\Lib\\site-packages\\openpyxl\\worksheet\\_read_only.py:79: UserWarning: Unknown extension is not supported and will be removed\n",
      "  for idx, row in parser.parse():\n"
     ]
    }
   ],
   "source": [
    "df = pd.read_excel(\"data_explore.xlsx\")\n",
    "df = df.drop(df.index[0])\n",
    "\n",
    "# If you want to reset the index after dropping the row\n",
    "df = df.reset_index(drop=True)\n",
    "df.drop_duplicates(inplace=True)"
   ]
  },
  {
   "cell_type": "code",
   "execution_count": 99,
   "metadata": {},
   "outputs": [],
   "source": [
    "# import datetime\n",
    "# df['Tháng'] = pd.to_datetime(df['Tháng'])"
   ]
  },
  {
   "cell_type": "code",
   "execution_count": 100,
   "metadata": {},
   "outputs": [
    {
     "data": {
      "text/plain": [
       "Đã test\n",
       "0.0    626\n",
       "1.0    332\n",
       "Name: count, dtype: int64"
      ]
     },
     "execution_count": 100,
     "metadata": {},
     "output_type": "execute_result"
    }
   ],
   "source": [
    "df['Đã test'].value_counts()"
   ]
  },
  {
   "cell_type": "code",
   "execution_count": 101,
   "metadata": {},
   "outputs": [],
   "source": [
    "df['Đã test'] = df['Đã test'].replace({0.0: 'Không', 1.0: 'Có'})"
   ]
  },
  {
   "cell_type": "markdown",
   "metadata": {},
   "source": [
    "Xử lý kênh liên lạc"
   ]
  },
  {
   "cell_type": "code",
   "execution_count": 102,
   "metadata": {},
   "outputs": [
    {
     "data": {
      "text/html": [
       "<div>\n",
       "<style scoped>\n",
       "    .dataframe tbody tr th:only-of-type {\n",
       "        vertical-align: middle;\n",
       "    }\n",
       "\n",
       "    .dataframe tbody tr th {\n",
       "        vertical-align: top;\n",
       "    }\n",
       "\n",
       "    .dataframe thead th {\n",
       "        text-align: right;\n",
       "    }\n",
       "</style>\n",
       "<table border=\"1\" class=\"dataframe\">\n",
       "  <thead>\n",
       "    <tr style=\"text-align: right;\">\n",
       "      <th></th>\n",
       "      <th>Ngày liên hệ</th>\n",
       "      <th>Nguồn</th>\n",
       "      <th>Tên Phụ huynh</th>\n",
       "      <th>Tên học sinh</th>\n",
       "      <th>Tuổi</th>\n",
       "      <th>Lớp</th>\n",
       "      <th>Tỉnh/Tp</th>\n",
       "      <th>Thông tin ban đầu</th>\n",
       "      <th>Giao cho nhân viên Sale</th>\n",
       "      <th>Trạng thái</th>\n",
       "      <th>...</th>\n",
       "      <th>Kế hoạch tiếp theo</th>\n",
       "      <th>Ngày chăm sóc tiếp theo</th>\n",
       "      <th>Ngày thu học phí</th>\n",
       "      <th>Khóa học cụ thể</th>\n",
       "      <th>Doanh thu danh nghĩa</th>\n",
       "      <th>Chiết khấu</th>\n",
       "      <th>Doanh thu thực thu</th>\n",
       "      <th>Tháng Liên hệ</th>\n",
       "      <th>Tháng đóng học phí</th>\n",
       "      <th>Kênh liên lạc</th>\n",
       "    </tr>\n",
       "  </thead>\n",
       "  <tbody>\n",
       "    <tr>\n",
       "      <th>0</th>\n",
       "      <td>2023-05-01</td>\n",
       "      <td>Fanpage</td>\n",
       "      <td>Hương Suri</td>\n",
       "      <td>NaN</td>\n",
       "      <td>3.0</td>\n",
       "      <td>NaN</td>\n",
       "      <td>NaN</td>\n",
       "      <td>Liên hệ qua Fanpage</td>\n",
       "      <td>Thu</td>\n",
       "      <td>Từ chối</td>\n",
       "      <td>...</td>\n",
       "      <td>Ngừng chăm sóc</td>\n",
       "      <td>NaN</td>\n",
       "      <td>NaT</td>\n",
       "      <td>NaN</td>\n",
       "      <td>NaN</td>\n",
       "      <td>NaN</td>\n",
       "      <td>NaN</td>\n",
       "      <td>5.0</td>\n",
       "      <td>NaN</td>\n",
       "      <td>SĐT, Facebook, None</td>\n",
       "    </tr>\n",
       "    <tr>\n",
       "      <th>1</th>\n",
       "      <td>2023-05-01</td>\n",
       "      <td>Fanpage</td>\n",
       "      <td>Kiều Phan</td>\n",
       "      <td>Sỹ Quý</td>\n",
       "      <td>11.0</td>\n",
       "      <td>NaN</td>\n",
       "      <td>NaN</td>\n",
       "      <td>NaN</td>\n",
       "      <td>Thu</td>\n",
       "      <td>Từ chối</td>\n",
       "      <td>...</td>\n",
       "      <td>Ngừng chăm sóc</td>\n",
       "      <td>NaN</td>\n",
       "      <td>NaT</td>\n",
       "      <td>NaN</td>\n",
       "      <td>NaN</td>\n",
       "      <td>NaN</td>\n",
       "      <td>NaN</td>\n",
       "      <td>5.0</td>\n",
       "      <td>NaN</td>\n",
       "      <td>SĐT, Facebook, None</td>\n",
       "    </tr>\n",
       "    <tr>\n",
       "      <th>2</th>\n",
       "      <td>2023-05-06</td>\n",
       "      <td>Fanpage</td>\n",
       "      <td>Thúy Hà Lê</td>\n",
       "      <td>Bảo Ngọc</td>\n",
       "      <td>6.0</td>\n",
       "      <td>NaN</td>\n",
       "      <td>NaN</td>\n",
       "      <td>NaN</td>\n",
       "      <td>Linh</td>\n",
       "      <td>Từ chối</td>\n",
       "      <td>...</td>\n",
       "      <td>Ngừng chăm sóc</td>\n",
       "      <td>NaN</td>\n",
       "      <td>NaT</td>\n",
       "      <td>NaN</td>\n",
       "      <td>NaN</td>\n",
       "      <td>NaN</td>\n",
       "      <td>NaN</td>\n",
       "      <td>5.0</td>\n",
       "      <td>NaN</td>\n",
       "      <td>SĐT, Facebook, None</td>\n",
       "    </tr>\n",
       "    <tr>\n",
       "      <th>3</th>\n",
       "      <td>2023-05-08</td>\n",
       "      <td>Fanpage</td>\n",
       "      <td>Nguyễn Hiếu</td>\n",
       "      <td>Uyên Nhi</td>\n",
       "      <td>11.0</td>\n",
       "      <td>Home schooling</td>\n",
       "      <td>NaN</td>\n",
       "      <td>CON mình 11t, mình muốn tư vấn về khóa học VUI</td>\n",
       "      <td>Duyên</td>\n",
       "      <td>Từ chối</td>\n",
       "      <td>...</td>\n",
       "      <td>Ngừng chăm sóc</td>\n",
       "      <td>NaN</td>\n",
       "      <td>2023-05-29</td>\n",
       "      <td>Phonics Fun</td>\n",
       "      <td>NaN</td>\n",
       "      <td>NaN</td>\n",
       "      <td>1000000</td>\n",
       "      <td>5.0</td>\n",
       "      <td>NaN</td>\n",
       "      <td>SĐT, Facebook, Zalo</td>\n",
       "    </tr>\n",
       "    <tr>\n",
       "      <th>4</th>\n",
       "      <td>2023-05-08</td>\n",
       "      <td>Data cũ</td>\n",
       "      <td>Thúy</td>\n",
       "      <td>Phan Văn Tùng</td>\n",
       "      <td>7.0</td>\n",
       "      <td>2, sắp lên lớp 3</td>\n",
       "      <td>Đà Nẵng</td>\n",
       "      <td>NaN</td>\n",
       "      <td>Phương</td>\n",
       "      <td>Đã đóng học phí</td>\n",
       "      <td>...</td>\n",
       "      <td>Chốt</td>\n",
       "      <td>NaN</td>\n",
       "      <td>NaT</td>\n",
       "      <td>NaN</td>\n",
       "      <td>NaN</td>\n",
       "      <td>NaN</td>\n",
       "      <td>NaN</td>\n",
       "      <td>5.0</td>\n",
       "      <td>5.0</td>\n",
       "      <td>SĐT, None, None</td>\n",
       "    </tr>\n",
       "    <tr>\n",
       "      <th>...</th>\n",
       "      <td>...</td>\n",
       "      <td>...</td>\n",
       "      <td>...</td>\n",
       "      <td>...</td>\n",
       "      <td>...</td>\n",
       "      <td>...</td>\n",
       "      <td>...</td>\n",
       "      <td>...</td>\n",
       "      <td>...</td>\n",
       "      <td>...</td>\n",
       "      <td>...</td>\n",
       "      <td>...</td>\n",
       "      <td>...</td>\n",
       "      <td>...</td>\n",
       "      <td>...</td>\n",
       "      <td>...</td>\n",
       "      <td>...</td>\n",
       "      <td>...</td>\n",
       "      <td>...</td>\n",
       "      <td>...</td>\n",
       "      <td>...</td>\n",
       "    </tr>\n",
       "    <tr>\n",
       "      <th>953</th>\n",
       "      <td>2023-12-29</td>\n",
       "      <td>Fanpage</td>\n",
       "      <td>Hai Duong</td>\n",
       "      <td>NaN</td>\n",
       "      <td>NaN</td>\n",
       "      <td>NaN</td>\n",
       "      <td>NaN</td>\n",
       "      <td>data check</td>\n",
       "      <td>Ánh</td>\n",
       "      <td>NaN</td>\n",
       "      <td>...</td>\n",
       "      <td>Khai thác sau</td>\n",
       "      <td>NaN</td>\n",
       "      <td>NaT</td>\n",
       "      <td>NaN</td>\n",
       "      <td>NaN</td>\n",
       "      <td>NaN</td>\n",
       "      <td>NaN</td>\n",
       "      <td>NaN</td>\n",
       "      <td>NaN</td>\n",
       "      <td>SĐT, None, None</td>\n",
       "    </tr>\n",
       "    <tr>\n",
       "      <th>954</th>\n",
       "      <td>2023-12-29</td>\n",
       "      <td>Fanpage</td>\n",
       "      <td>Minh Nguyên</td>\n",
       "      <td>NaN</td>\n",
       "      <td>NaN</td>\n",
       "      <td>NaN</td>\n",
       "      <td>NaN</td>\n",
       "      <td>data check</td>\n",
       "      <td>Ánh</td>\n",
       "      <td>NaN</td>\n",
       "      <td>...</td>\n",
       "      <td>Khai thác sau</td>\n",
       "      <td>NaN</td>\n",
       "      <td>NaT</td>\n",
       "      <td>NaN</td>\n",
       "      <td>NaN</td>\n",
       "      <td>NaN</td>\n",
       "      <td>NaN</td>\n",
       "      <td>NaN</td>\n",
       "      <td>NaN</td>\n",
       "      <td>SĐT, None, None</td>\n",
       "    </tr>\n",
       "    <tr>\n",
       "      <th>955</th>\n",
       "      <td>2023-12-29</td>\n",
       "      <td>Fanpage</td>\n",
       "      <td>Ngocdungdl</td>\n",
       "      <td>NaN</td>\n",
       "      <td>NaN</td>\n",
       "      <td>NaN</td>\n",
       "      <td>NaN</td>\n",
       "      <td>data check</td>\n",
       "      <td>Ánh</td>\n",
       "      <td>NaN</td>\n",
       "      <td>...</td>\n",
       "      <td>Khai thác sau</td>\n",
       "      <td>NaN</td>\n",
       "      <td>NaT</td>\n",
       "      <td>NaN</td>\n",
       "      <td>NaN</td>\n",
       "      <td>NaN</td>\n",
       "      <td>NaN</td>\n",
       "      <td>NaN</td>\n",
       "      <td>NaN</td>\n",
       "      <td>SĐT, None, None</td>\n",
       "    </tr>\n",
       "    <tr>\n",
       "      <th>956</th>\n",
       "      <td>2023-12-29</td>\n",
       "      <td>Fanpage</td>\n",
       "      <td>Hoai Tran</td>\n",
       "      <td>NaN</td>\n",
       "      <td>NaN</td>\n",
       "      <td>NaN</td>\n",
       "      <td>NaN</td>\n",
       "      <td>data check</td>\n",
       "      <td>Ánh</td>\n",
       "      <td>NaN</td>\n",
       "      <td>...</td>\n",
       "      <td>Khai thác sau</td>\n",
       "      <td>NaN</td>\n",
       "      <td>NaT</td>\n",
       "      <td>NaN</td>\n",
       "      <td>NaN</td>\n",
       "      <td>NaN</td>\n",
       "      <td>NaN</td>\n",
       "      <td>NaN</td>\n",
       "      <td>NaN</td>\n",
       "      <td>SĐT, None, None</td>\n",
       "    </tr>\n",
       "    <tr>\n",
       "      <th>957</th>\n",
       "      <td>2023-01-02</td>\n",
       "      <td>Fanpage</td>\n",
       "      <td>Trần Minh Thông</td>\n",
       "      <td>Trần Ngọc Bảo Đan</td>\n",
       "      <td>9.0</td>\n",
       "      <td>4</td>\n",
       "      <td>NaN</td>\n",
       "      <td>quan tâm lớp GTPX cho con</td>\n",
       "      <td>Ánh</td>\n",
       "      <td>Đã liên lạc lần 1</td>\n",
       "      <td>...</td>\n",
       "      <td>Chăm sóc tiếp</td>\n",
       "      <td>NaN</td>\n",
       "      <td>NaT</td>\n",
       "      <td>NaN</td>\n",
       "      <td>NaN</td>\n",
       "      <td>NaN</td>\n",
       "      <td>NaN</td>\n",
       "      <td>NaN</td>\n",
       "      <td>NaN</td>\n",
       "      <td>SĐT, None, None</td>\n",
       "    </tr>\n",
       "  </tbody>\n",
       "</table>\n",
       "<p>958 rows × 26 columns</p>\n",
       "</div>"
      ],
      "text/plain": [
       "    Ngày liên hệ    Nguồn    Tên Phụ huynh       Tên học sinh  Tuổi  \\\n",
       "0     2023-05-01  Fanpage       Hương Suri                NaN   3.0   \n",
       "1     2023-05-01  Fanpage        Kiều Phan             Sỹ Quý  11.0   \n",
       "2     2023-05-06  Fanpage       Thúy Hà Lê          Bảo Ngọc    6.0   \n",
       "3     2023-05-08  Fanpage      Nguyễn Hiếu           Uyên Nhi  11.0   \n",
       "4     2023-05-08  Data cũ             Thúy      Phan Văn Tùng   7.0   \n",
       "..           ...      ...              ...                ...   ...   \n",
       "953   2023-12-29  Fanpage        Hai Duong                NaN   NaN   \n",
       "954   2023-12-29  Fanpage      Minh Nguyên                NaN   NaN   \n",
       "955   2023-12-29  Fanpage       Ngocdungdl                NaN   NaN   \n",
       "956   2023-12-29  Fanpage        Hoai Tran                NaN   NaN   \n",
       "957   2023-01-02  Fanpage  Trần Minh Thông  Trần Ngọc Bảo Đan   9.0   \n",
       "\n",
       "                  Lớp  Tỉnh/Tp  \\\n",
       "0                 NaN      NaN   \n",
       "1                 NaN      NaN   \n",
       "2                 NaN      NaN   \n",
       "3     Home schooling       NaN   \n",
       "4    2, sắp lên lớp 3  Đà Nẵng   \n",
       "..                ...      ...   \n",
       "953               NaN      NaN   \n",
       "954               NaN      NaN   \n",
       "955               NaN      NaN   \n",
       "956               NaN      NaN   \n",
       "957                 4      NaN   \n",
       "\n",
       "                                  Thông tin ban đầu Giao cho nhân viên Sale  \\\n",
       "0                               Liên hệ qua Fanpage                     Thu   \n",
       "1                                               NaN                     Thu   \n",
       "2                                               NaN                    Linh   \n",
       "3    CON mình 11t, mình muốn tư vấn về khóa học VUI                  Duyên    \n",
       "4                                               NaN                  Phương   \n",
       "..                                              ...                     ...   \n",
       "953                                      data check                     Ánh   \n",
       "954                                      data check                     Ánh   \n",
       "955                                      data check                     Ánh   \n",
       "956                                      data check                     Ánh   \n",
       "957                       quan tâm lớp GTPX cho con                     Ánh   \n",
       "\n",
       "            Trạng thái  ... Kế hoạch tiếp theo Ngày chăm sóc tiếp theo  \\\n",
       "0              Từ chối  ...     Ngừng chăm sóc                     NaN   \n",
       "1              Từ chối  ...     Ngừng chăm sóc                     NaN   \n",
       "2              Từ chối  ...     Ngừng chăm sóc                     NaN   \n",
       "3              Từ chối  ...     Ngừng chăm sóc                     NaN   \n",
       "4      Đã đóng học phí  ...               Chốt                     NaN   \n",
       "..                 ...  ...                ...                     ...   \n",
       "953                NaN  ...      Khai thác sau                     NaN   \n",
       "954                NaN  ...      Khai thác sau                     NaN   \n",
       "955                NaN  ...      Khai thác sau                     NaN   \n",
       "956                NaN  ...      Khai thác sau                     NaN   \n",
       "957  Đã liên lạc lần 1  ...      Chăm sóc tiếp                     NaN   \n",
       "\n",
       "    Ngày thu học phí Khóa học cụ thể Doanh thu danh nghĩa Chiết khấu  \\\n",
       "0                NaT             NaN                  NaN        NaN   \n",
       "1                NaT             NaN                  NaN        NaN   \n",
       "2                NaT             NaN                  NaN        NaN   \n",
       "3         2023-05-29     Phonics Fun                  NaN        NaN   \n",
       "4                NaT             NaN                  NaN        NaN   \n",
       "..               ...             ...                  ...        ...   \n",
       "953              NaT             NaN                  NaN        NaN   \n",
       "954              NaT             NaN                  NaN        NaN   \n",
       "955              NaT             NaN                  NaN        NaN   \n",
       "956              NaT             NaN                  NaN        NaN   \n",
       "957              NaT             NaN                  NaN        NaN   \n",
       "\n",
       "    Doanh thu thực thu Tháng Liên hệ Tháng đóng học phí        Kênh liên lạc  \n",
       "0                  NaN           5.0                NaN  SĐT, Facebook, None  \n",
       "1                  NaN           5.0                NaN  SĐT, Facebook, None  \n",
       "2                  NaN           5.0                NaN  SĐT, Facebook, None  \n",
       "3              1000000           5.0                NaN  SĐT, Facebook, Zalo  \n",
       "4                  NaN           5.0                5.0      SĐT, None, None  \n",
       "..                 ...           ...                ...                  ...  \n",
       "953                NaN           NaN                NaN      SĐT, None, None  \n",
       "954                NaN           NaN                NaN      SĐT, None, None  \n",
       "955                NaN           NaN                NaN      SĐT, None, None  \n",
       "956                NaN           NaN                NaN      SĐT, None, None  \n",
       "957                NaN           NaN                NaN      SĐT, None, None  \n",
       "\n",
       "[958 rows x 26 columns]"
      ]
     },
     "execution_count": 102,
     "metadata": {},
     "output_type": "execute_result"
    }
   ],
   "source": [
    "df['Số điện thoại'] = df['Số điện thoại'].fillna('None')\n",
    "df['Facebook'] = df['Facebook'].fillna('None')\n",
    "df['Zalo'] = df['Zalo'].fillna('None')\n",
    "df['Số điện thoại'] = df['Số điện thoại'].apply(lambda x: x if x == 'None' else 'SĐT')\n",
    "df['Facebook'] = df['Facebook'].apply(lambda x: x if x == 'None' else 'Facebook')\n",
    "df['Zalo'] = df['Zalo'].apply(lambda x: x if x == 'None' else 'Zalo')\n",
    "\n",
    "# Gộp ba cột thành một cột mới 'Kênh liên lạc'\n",
    "df['Kênh liên lạc'] = df['Số điện thoại'].fillna('None') + ', ' + df['Facebook'].fillna('None') + ', ' + df['Zalo'].fillna('None')\n",
    "\n",
    "# Loại bỏ ba cột cũ\n",
    "df.drop(['Số điện thoại', 'Facebook', 'Zalo'], axis=1, inplace=True)\n",
    "df"
   ]
  },
  {
   "cell_type": "code",
   "execution_count": 103,
   "metadata": {},
   "outputs": [],
   "source": [
    "df['Tuổi'].fillna(df['Tuổi'].mode()[0],inplace=True)"
   ]
  },
  {
   "cell_type": "code",
   "execution_count": 104,
   "metadata": {},
   "outputs": [],
   "source": [
    "# df.to_excel('data_visualize.xlsx',index=False)"
   ]
  },
  {
   "cell_type": "code",
   "execution_count": 105,
   "metadata": {},
   "outputs": [
    {
     "data": {
      "text/plain": [
       "Ngày liên hệ                                   6\n",
       "Nguồn                                          0\n",
       "Tên Phụ huynh                                 99\n",
       "Tên học sinh                                 369\n",
       "Tuổi                                           0\n",
       "Lớp                                          578\n",
       "Tỉnh/Tp                                      937\n",
       "Thông tin ban đầu                            366\n",
       "Giao cho nhân viên Sale                        0\n",
       "Trạng thái                                     7\n",
       "Đã test                                        0\n",
       "KQ test đầu vào                              615\n",
       "Đánh giá KQ quả trình độ sau test đầu vào    620\n",
       "Khóa học                                     801\n",
       "Lịch học                                     938\n",
       "Nhật ký chăm sóc                              25\n",
       "Kế hoạch tiếp theo                             1\n",
       "Ngày chăm sóc tiếp theo                      803\n",
       "Ngày thu học phí                             806\n",
       "Khóa học cụ thể                              804\n",
       "Doanh thu danh nghĩa                         814\n",
       "Chiết khấu                                   818\n",
       "Doanh thu thực thu                           806\n",
       "Tháng Liên hệ                                 14\n",
       "Tháng đóng học phí                           806\n",
       "Kênh liên lạc                                  0\n",
       "dtype: int64"
      ]
     },
     "execution_count": 105,
     "metadata": {},
     "output_type": "execute_result"
    }
   ],
   "source": [
    "df.isnull().sum()"
   ]
  },
  {
   "cell_type": "code",
   "execution_count": 106,
   "metadata": {},
   "outputs": [],
   "source": [
    "df_tree = df[['Nguồn', 'Tuổi', 'Giao cho nhân viên Sale', 'Kế hoạch tiếp theo', 'Đã test', 'Kênh liên lạc', 'Tháng Liên hệ']]"
   ]
  },
  {
   "cell_type": "code",
   "execution_count": 107,
   "metadata": {},
   "outputs": [
    {
     "data": {
      "text/plain": [
       "Nguồn                       0\n",
       "Tuổi                        0\n",
       "Giao cho nhân viên Sale     0\n",
       "Kế hoạch tiếp theo          1\n",
       "Đã test                     0\n",
       "Kênh liên lạc               0\n",
       "Tháng Liên hệ              14\n",
       "dtype: int64"
      ]
     },
     "execution_count": 107,
     "metadata": {},
     "output_type": "execute_result"
    }
   ],
   "source": [
    "df_tree.isnull().sum()"
   ]
  },
  {
   "cell_type": "code",
   "execution_count": 108,
   "metadata": {},
   "outputs": [
    {
     "data": {
      "text/plain": [
       "Index(['Nguồn', 'Tuổi', 'Giao cho nhân viên Sale', 'Kế hoạch tiếp theo',\n",
       "       'Đã test', 'Kênh liên lạc', 'Tháng Liên hệ'],\n",
       "      dtype='object')"
      ]
     },
     "execution_count": 108,
     "metadata": {},
     "output_type": "execute_result"
    }
   ],
   "source": [
    "df_tree.columns"
   ]
  },
  {
   "cell_type": "code",
   "execution_count": 109,
   "metadata": {},
   "outputs": [
    {
     "data": {
      "text/plain": [
       "Tuổi\n",
       "10.0    418\n",
       "11.0     84\n",
       "8.0      80\n",
       "9.0      78\n",
       "12.0     60\n",
       "6.0      51\n",
       "7.0      49\n",
       "13.0     39\n",
       "5.0      26\n",
       "14.0     16\n",
       "16.0     10\n",
       "15.0      8\n",
       "4.0       8\n",
       "20.0      6\n",
       "19.0      5\n",
       "18.0      2\n",
       "17.0      2\n",
       "36.0      2\n",
       "3.0       2\n",
       "21.0      2\n",
       "24.0      2\n",
       "22.0      1\n",
       "25.0      1\n",
       "38.0      1\n",
       "30.0      1\n",
       "27.0      1\n",
       "23.0      1\n",
       "33.0      1\n",
       "29.0      1\n",
       "Name: count, dtype: int64"
      ]
     },
     "execution_count": 109,
     "metadata": {},
     "output_type": "execute_result"
    }
   ],
   "source": [
    "df_tree['Tuổi'].value_counts()"
   ]
  },
  {
   "cell_type": "code",
   "execution_count": 110,
   "metadata": {},
   "outputs": [
    {
     "name": "stderr",
     "output_type": "stream",
     "text": [
      "C:\\Users\\ADMIN\\AppData\\Local\\Temp\\ipykernel_5300\\3098932090.py:1: SettingWithCopyWarning: \n",
      "A value is trying to be set on a copy of a slice from a DataFrame\n",
      "\n",
      "See the caveats in the documentation: https://pandas.pydata.org/pandas-docs/stable/user_guide/indexing.html#returning-a-view-versus-a-copy\n",
      "  df_tree['Tuổi'].fillna(df_tree['Tuổi'].mode()[0],inplace=True)\n"
     ]
    }
   ],
   "source": [
    "df_tree['Tuổi'].fillna(df_tree['Tuổi'].mode()[0],inplace=True)"
   ]
  },
  {
   "cell_type": "code",
   "execution_count": 111,
   "metadata": {},
   "outputs": [
    {
     "name": "stderr",
     "output_type": "stream",
     "text": [
      "C:\\Users\\ADMIN\\AppData\\Local\\Temp\\ipykernel_5300\\3655962770.py:1: SettingWithCopyWarning: \n",
      "A value is trying to be set on a copy of a slice from a DataFrame\n",
      "\n",
      "See the caveats in the documentation: https://pandas.pydata.org/pandas-docs/stable/user_guide/indexing.html#returning-a-view-versus-a-copy\n",
      "  df_tree['Tháng Liên hệ'].fillna(df_tree['Tháng Liên hệ'].mode()[0],inplace=True)\n"
     ]
    }
   ],
   "source": [
    "df_tree['Tháng Liên hệ'].fillna(df_tree['Tháng Liên hệ'].mode()[0],inplace=True)"
   ]
  },
  {
   "cell_type": "code",
   "execution_count": 112,
   "metadata": {},
   "outputs": [
    {
     "name": "stderr",
     "output_type": "stream",
     "text": [
      "C:\\Users\\ADMIN\\AppData\\Local\\Temp\\ipykernel_5300\\3633013020.py:1: SettingWithCopyWarning: \n",
      "A value is trying to be set on a copy of a slice from a DataFrame\n",
      "\n",
      "See the caveats in the documentation: https://pandas.pydata.org/pandas-docs/stable/user_guide/indexing.html#returning-a-view-versus-a-copy\n",
      "  df_tree['Kế hoạch tiếp theo'].fillna('Từ chối',inplace=True)\n"
     ]
    }
   ],
   "source": [
    "df_tree['Kế hoạch tiếp theo'].fillna('Từ chối',inplace=True)"
   ]
  },
  {
   "cell_type": "code",
   "execution_count": 113,
   "metadata": {},
   "outputs": [
    {
     "data": {
      "text/plain": [
       "Kế hoạch tiếp theo\n",
       "Ngừng chăm sóc    387\n",
       "Chăm sóc tiếp     333\n",
       "Chốt              152\n",
       "Khai thác sau      85\n",
       "Từ chối             1\n",
       "Name: count, dtype: int64"
      ]
     },
     "execution_count": 113,
     "metadata": {},
     "output_type": "execute_result"
    }
   ],
   "source": [
    "df_tree['Kế hoạch tiếp theo'].value_counts()"
   ]
  },
  {
   "cell_type": "code",
   "execution_count": 114,
   "metadata": {},
   "outputs": [
    {
     "data": {
      "text/plain": [
       "Kế hoạch tiếp theo\n",
       "Từ chối    806\n",
       "Chốt       152\n",
       "Name: count, dtype: int64"
      ]
     },
     "execution_count": 114,
     "metadata": {},
     "output_type": "execute_result"
    }
   ],
   "source": [
    "# Sử dụng .loc để thay đổi dữ liệu dựa trên điều kiện\n",
    "df_tree.loc[df_tree['Kế hoạch tiếp theo'].isin(['Chăm sóc tiếp', 'Khai thác sau', 'Ngừng chăm sóc']), 'Kế hoạch tiếp theo'] = 'Từ chối'\n",
    "df_tree.loc[df_tree['Kế hoạch tiếp theo'] == 'Chốt', 'Kế hoạch tiếp theo'] = 'Chốt'\n",
    "\n",
    "# Đếm số lượng các giá trị mới\n",
    "df_tree['Kế hoạch tiếp theo'].value_counts()"
   ]
  },
  {
   "cell_type": "code",
   "execution_count": 115,
   "metadata": {},
   "outputs": [
    {
     "name": "stderr",
     "output_type": "stream",
     "text": [
      "C:\\Users\\ADMIN\\AppData\\Local\\Temp\\ipykernel_5300\\274072004.py:1: SettingWithCopyWarning: \n",
      "A value is trying to be set on a copy of a slice from a DataFrame.\n",
      "Try using .loc[row_indexer,col_indexer] = value instead\n",
      "\n",
      "See the caveats in the documentation: https://pandas.pydata.org/pandas-docs/stable/user_guide/indexing.html#returning-a-view-versus-a-copy\n",
      "  df_tree['Kênh liên lạc'] = df_tree['Kênh liên lạc'].str.strip()\n"
     ]
    },
    {
     "data": {
      "text/plain": [
       "Kênh liên lạc\n",
       "SĐT, None, None         900\n",
       "SĐT, None, Zalo          23\n",
       "None, None, None         16\n",
       "SĐT, Facebook, None      10\n",
       "None, Facebook, None      6\n",
       "SĐT, Facebook, Zalo       2\n",
       "None, None, Zalo          1\n",
       "Name: count, dtype: int64"
      ]
     },
     "execution_count": 115,
     "metadata": {},
     "output_type": "execute_result"
    }
   ],
   "source": [
    "\n",
    "df_tree['Kênh liên lạc'] = df_tree['Kênh liên lạc'].str.strip()\n",
    "df_tree['Kênh liên lạc'].value_counts()"
   ]
  },
  {
   "cell_type": "code",
   "execution_count": 116,
   "metadata": {},
   "outputs": [],
   "source": [
    "# hàm chuyển đổi từ multi-value column thành dummy-value columns\n",
    "def multi_to_dummy(dataframe, column, pref=None, seperator=' '):\n",
    "    # convert into list type data\n",
    "    split_col = dataframe[column].str.split(seperator)\n",
    "    # get dummy and group\n",
    "    df_dummy = pd.get_dummies(split_col.apply(pd.Series).stack(), prefix=pref).groupby(level=0).sum()\n",
    "    return df_dummy "
   ]
  },
  {
   "cell_type": "code",
   "execution_count": 117,
   "metadata": {},
   "outputs": [
    {
     "name": "stderr",
     "output_type": "stream",
     "text": [
      "C:\\Users\\ADMIN\\AppData\\Local\\Temp\\ipykernel_5300\\929747708.py:5: SettingWithCopyWarning: \n",
      "A value is trying to be set on a copy of a slice from a DataFrame.\n",
      "Try using .loc[row_indexer,col_indexer] = value instead\n",
      "\n",
      "See the caveats in the documentation: https://pandas.pydata.org/pandas-docs/stable/user_guide/indexing.html#returning-a-view-versus-a-copy\n",
      "  df_tree['Kênh liên lạc'] = df_tree['Kênh liên lạc'].str.replace('  ', '', regex=False)\n",
      "C:\\Users\\ADMIN\\AppData\\Local\\Temp\\ipykernel_5300\\929747708.py:6: SettingWithCopyWarning: \n",
      "A value is trying to be set on a copy of a slice from a DataFrame.\n",
      "Try using .loc[row_indexer,col_indexer] = value instead\n",
      "\n",
      "See the caveats in the documentation: https://pandas.pydata.org/pandas-docs/stable/user_guide/indexing.html#returning-a-view-versus-a-copy\n",
      "  df_tree['Kênh liên lạc'] = df_tree['Kênh liên lạc'].str.replace(' ,', '', regex=False)   # Xóa ' ,' nếu tồn tại\n",
      "C:\\Users\\ADMIN\\AppData\\Local\\Temp\\ipykernel_5300\\929747708.py:7: SettingWithCopyWarning: \n",
      "A value is trying to be set on a copy of a slice from a DataFrame.\n",
      "Try using .loc[row_indexer,col_indexer] = value instead\n",
      "\n",
      "See the caveats in the documentation: https://pandas.pydata.org/pandas-docs/stable/user_guide/indexing.html#returning-a-view-versus-a-copy\n",
      "  df_tree['Kênh liên lạc'] = df_tree['Kênh liên lạc'].str.replace(',', '', regex=False)\n",
      "C:\\Users\\ADMIN\\AppData\\Local\\Temp\\ipykernel_5300\\929747708.py:8: SettingWithCopyWarning: \n",
      "A value is trying to be set on a copy of a slice from a DataFrame.\n",
      "Try using .loc[row_indexer,col_indexer] = value instead\n",
      "\n",
      "See the caveats in the documentation: https://pandas.pydata.org/pandas-docs/stable/user_guide/indexing.html#returning-a-view-versus-a-copy\n",
      "  df_tree['Kênh liên lạc'] = df_tree['Kênh liên lạc'].str.replace('None', '', regex=False)\n",
      "C:\\Users\\ADMIN\\AppData\\Local\\Temp\\ipykernel_5300\\929747708.py:10: SettingWithCopyWarning: \n",
      "A value is trying to be set on a copy of a slice from a DataFrame.\n",
      "Try using .loc[row_indexer,col_indexer] = value instead\n",
      "\n",
      "See the caveats in the documentation: https://pandas.pydata.org/pandas-docs/stable/user_guide/indexing.html#returning-a-view-versus-a-copy\n",
      "  df_tree['Kênh liên lạc'] = df_tree['Kênh liên lạc'].str.strip()\n"
     ]
    },
    {
     "data": {
      "text/html": [
       "<div>\n",
       "<style scoped>\n",
       "    .dataframe tbody tr th:only-of-type {\n",
       "        vertical-align: middle;\n",
       "    }\n",
       "\n",
       "    .dataframe tbody tr th {\n",
       "        vertical-align: top;\n",
       "    }\n",
       "\n",
       "    .dataframe thead th {\n",
       "        text-align: right;\n",
       "    }\n",
       "</style>\n",
       "<table border=\"1\" class=\"dataframe\">\n",
       "  <thead>\n",
       "    <tr style=\"text-align: right;\">\n",
       "      <th></th>\n",
       "      <th></th>\n",
       "      <th>Facebook</th>\n",
       "      <th>SĐT</th>\n",
       "      <th>Zalo</th>\n",
       "    </tr>\n",
       "  </thead>\n",
       "  <tbody>\n",
       "    <tr>\n",
       "      <th>0</th>\n",
       "      <td>0</td>\n",
       "      <td>1</td>\n",
       "      <td>1</td>\n",
       "      <td>0</td>\n",
       "    </tr>\n",
       "    <tr>\n",
       "      <th>1</th>\n",
       "      <td>0</td>\n",
       "      <td>1</td>\n",
       "      <td>1</td>\n",
       "      <td>0</td>\n",
       "    </tr>\n",
       "    <tr>\n",
       "      <th>2</th>\n",
       "      <td>0</td>\n",
       "      <td>1</td>\n",
       "      <td>1</td>\n",
       "      <td>0</td>\n",
       "    </tr>\n",
       "    <tr>\n",
       "      <th>3</th>\n",
       "      <td>0</td>\n",
       "      <td>1</td>\n",
       "      <td>1</td>\n",
       "      <td>1</td>\n",
       "    </tr>\n",
       "    <tr>\n",
       "      <th>4</th>\n",
       "      <td>0</td>\n",
       "      <td>0</td>\n",
       "      <td>1</td>\n",
       "      <td>0</td>\n",
       "    </tr>\n",
       "    <tr>\n",
       "      <th>...</th>\n",
       "      <td>...</td>\n",
       "      <td>...</td>\n",
       "      <td>...</td>\n",
       "      <td>...</td>\n",
       "    </tr>\n",
       "    <tr>\n",
       "      <th>953</th>\n",
       "      <td>0</td>\n",
       "      <td>0</td>\n",
       "      <td>1</td>\n",
       "      <td>0</td>\n",
       "    </tr>\n",
       "    <tr>\n",
       "      <th>954</th>\n",
       "      <td>0</td>\n",
       "      <td>0</td>\n",
       "      <td>1</td>\n",
       "      <td>0</td>\n",
       "    </tr>\n",
       "    <tr>\n",
       "      <th>955</th>\n",
       "      <td>0</td>\n",
       "      <td>0</td>\n",
       "      <td>1</td>\n",
       "      <td>0</td>\n",
       "    </tr>\n",
       "    <tr>\n",
       "      <th>956</th>\n",
       "      <td>0</td>\n",
       "      <td>0</td>\n",
       "      <td>1</td>\n",
       "      <td>0</td>\n",
       "    </tr>\n",
       "    <tr>\n",
       "      <th>957</th>\n",
       "      <td>0</td>\n",
       "      <td>0</td>\n",
       "      <td>1</td>\n",
       "      <td>0</td>\n",
       "    </tr>\n",
       "  </tbody>\n",
       "</table>\n",
       "<p>958 rows × 4 columns</p>\n",
       "</div>"
      ],
      "text/plain": [
       "        Facebook  SĐT  Zalo\n",
       "0    0         1    1     0\n",
       "1    0         1    1     0\n",
       "2    0         1    1     0\n",
       "3    0         1    1     1\n",
       "4    0         0    1     0\n",
       "..  ..       ...  ...   ...\n",
       "953  0         0    1     0\n",
       "954  0         0    1     0\n",
       "955  0         0    1     0\n",
       "956  0         0    1     0\n",
       "957  0         0    1     0\n",
       "\n",
       "[958 rows x 4 columns]"
      ]
     },
     "execution_count": 117,
     "metadata": {},
     "output_type": "execute_result"
    }
   ],
   "source": [
    "mask = df_tree['Kênh liên lạc'] == 'None, None, None'\n",
    "\n",
    "# Thay thế bằng 'SĐT'\n",
    "df_tree.loc[mask, 'Kênh liên lạc'] = 'SĐT'\n",
    "df_tree['Kênh liên lạc'] = df_tree['Kênh liên lạc'].str.replace('  ', '', regex=False)\n",
    "df_tree['Kênh liên lạc'] = df_tree['Kênh liên lạc'].str.replace(' ,', '', regex=False)   # Xóa ' ,' nếu tồn tại\n",
    "df_tree['Kênh liên lạc'] = df_tree['Kênh liên lạc'].str.replace(',', '', regex=False) \n",
    "df_tree['Kênh liên lạc'] = df_tree['Kênh liên lạc'].str.replace('None', '', regex=False) \n",
    "# Xóa khoảng trắng ở đầu hoặc cuối\n",
    "df_tree['Kênh liên lạc'] = df_tree['Kênh liên lạc'].str.strip()\n",
    "new_df = multi_to_dummy(df_tree,'Kênh liên lạc',pref=None, seperator=' ')\n",
    "new_df\n"
   ]
  },
  {
   "cell_type": "code",
   "execution_count": 118,
   "metadata": {},
   "outputs": [
    {
     "data": {
      "text/html": [
       "<div>\n",
       "<style scoped>\n",
       "    .dataframe tbody tr th:only-of-type {\n",
       "        vertical-align: middle;\n",
       "    }\n",
       "\n",
       "    .dataframe tbody tr th {\n",
       "        vertical-align: top;\n",
       "    }\n",
       "\n",
       "    .dataframe thead th {\n",
       "        text-align: right;\n",
       "    }\n",
       "</style>\n",
       "<table border=\"1\" class=\"dataframe\">\n",
       "  <thead>\n",
       "    <tr style=\"text-align: right;\">\n",
       "      <th></th>\n",
       "      <th>Nguồn</th>\n",
       "      <th>Tuổi</th>\n",
       "      <th>Giao cho nhân viên Sale</th>\n",
       "      <th>Kế hoạch tiếp theo</th>\n",
       "      <th>Đã test</th>\n",
       "      <th>Tháng Liên hệ</th>\n",
       "      <th>Facebook</th>\n",
       "      <th>SĐT</th>\n",
       "      <th>Zalo</th>\n",
       "    </tr>\n",
       "  </thead>\n",
       "  <tbody>\n",
       "    <tr>\n",
       "      <th>0</th>\n",
       "      <td>Fanpage</td>\n",
       "      <td>3.0</td>\n",
       "      <td>Thu</td>\n",
       "      <td>Từ chối</td>\n",
       "      <td>Không</td>\n",
       "      <td>5.0</td>\n",
       "      <td>1</td>\n",
       "      <td>1</td>\n",
       "      <td>0</td>\n",
       "    </tr>\n",
       "    <tr>\n",
       "      <th>1</th>\n",
       "      <td>Fanpage</td>\n",
       "      <td>11.0</td>\n",
       "      <td>Thu</td>\n",
       "      <td>Từ chối</td>\n",
       "      <td>Có</td>\n",
       "      <td>5.0</td>\n",
       "      <td>1</td>\n",
       "      <td>1</td>\n",
       "      <td>0</td>\n",
       "    </tr>\n",
       "    <tr>\n",
       "      <th>2</th>\n",
       "      <td>Fanpage</td>\n",
       "      <td>6.0</td>\n",
       "      <td>Linh</td>\n",
       "      <td>Từ chối</td>\n",
       "      <td>Không</td>\n",
       "      <td>5.0</td>\n",
       "      <td>1</td>\n",
       "      <td>1</td>\n",
       "      <td>0</td>\n",
       "    </tr>\n",
       "  </tbody>\n",
       "</table>\n",
       "</div>"
      ],
      "text/plain": [
       "     Nguồn  Tuổi Giao cho nhân viên Sale Kế hoạch tiếp theo Đã test  \\\n",
       "0  Fanpage   3.0                     Thu            Từ chối   Không   \n",
       "1  Fanpage  11.0                     Thu            Từ chối      Có   \n",
       "2  Fanpage   6.0                    Linh            Từ chối   Không   \n",
       "\n",
       "   Tháng Liên hệ  Facebook  SĐT  Zalo  \n",
       "0            5.0         1    1     0  \n",
       "1            5.0         1    1     0  \n",
       "2            5.0         1    1     0  "
      ]
     },
     "execution_count": 118,
     "metadata": {},
     "output_type": "execute_result"
    }
   ],
   "source": [
    "df_tree = pd.concat([df_tree, new_df], axis=1).drop(columns=['Kênh liên lạc',''])\n",
    "df_tree.head(3)"
   ]
  },
  {
   "cell_type": "code",
   "execution_count": 119,
   "metadata": {},
   "outputs": [
    {
     "data": {
      "text/plain": [
       "array(['Thu', 'Linh', 'Duyên ', 'Phương', 'Loan', 'Ánh', 'Cúc', 'Yến',\n",
       "       'Thảo'], dtype=object)"
      ]
     },
     "execution_count": 119,
     "metadata": {},
     "output_type": "execute_result"
    }
   ],
   "source": [
    "df_tree['Giao cho nhân viên Sale'].unique()"
   ]
  },
  {
   "cell_type": "code",
   "execution_count": 120,
   "metadata": {},
   "outputs": [
    {
     "data": {
      "text/plain": [
       "array(['Fanpage', 'Data cũ', 'Hotline', 'Người quen', 'HV giới thiệu',\n",
       "       'Đến trung tâm', 'Data mua', 'Seeding', 'Website'], dtype=object)"
      ]
     },
     "execution_count": 120,
     "metadata": {},
     "output_type": "execute_result"
    }
   ],
   "source": [
    "df_tree['Nguồn'].unique()"
   ]
  },
  {
   "cell_type": "markdown",
   "metadata": {},
   "source": [
    "Label encoder\n"
   ]
  },
  {
   "cell_type": "code",
   "execution_count": 121,
   "metadata": {},
   "outputs": [
    {
     "name": "stdout",
     "output_type": "stream",
     "text": [
      "Bảng mã hóa cho cột 'Nguồn':\n",
      "  Data cũ -> 0\n",
      "  Data mua -> 1\n",
      "  Fanpage -> 2\n",
      "  HV giới thiệu -> 3\n",
      "  Hotline -> 4\n",
      "  Người quen -> 5\n",
      "  Seeding -> 6\n",
      "  Website -> 7\n",
      "  Đến trung tâm -> 8\n",
      "\n",
      "Bảng mã hóa cho cột 'Giao cho nhân viên Sale':\n",
      "  Cúc -> 0\n",
      "  Duyên  -> 1\n",
      "  Linh -> 2\n",
      "  Loan -> 3\n",
      "  Phương -> 4\n",
      "  Thu -> 5\n",
      "  Thảo -> 6\n",
      "  Yến -> 7\n",
      "  Ánh -> 8\n",
      "\n",
      "Bảng mã hóa cho cột 'Kế hoạch tiếp theo':\n",
      "  Chốt -> 0\n",
      "  Từ chối -> 1\n",
      "\n",
      "Bảng mã hóa cho cột 'Đã test':\n",
      "  Có -> 0\n",
      "  Không -> 1\n",
      "\n"
     ]
    }
   ],
   "source": [
    "columns = ['Nguồn','Giao cho nhân viên Sale','Kế hoạch tiếp theo','Đã test']\n",
    "encoded_mapping = {}\n",
    "for col in columns:\n",
    "    label_encoder = LabelEncoder()\n",
    "    df_tree[col] = label_encoder.fit_transform(df_tree[col])\n",
    "    encoded_mapping[col] = dict(zip(label_encoder.classes_, label_encoder.transform(label_encoder.classes_)))\n",
    "# df_tree\n",
    "for col, mapping in encoded_mapping.items():\n",
    "    print(f\"Bảng mã hóa cho cột '{col}':\")\n",
    "    for original, encoded in mapping.items():\n",
    "        print(f\"  {original} -> {encoded}\")\n",
    "    print()"
   ]
  },
  {
   "cell_type": "code",
   "execution_count": 122,
   "metadata": {},
   "outputs": [
    {
     "data": {
      "text/plain": [
       "{'Nguồn': {'Data cũ': 0,\n",
       "  'Data mua': 1,\n",
       "  'Fanpage': 2,\n",
       "  'HV giới thiệu': 3,\n",
       "  'Hotline': 4,\n",
       "  'Người quen': 5,\n",
       "  'Seeding': 6,\n",
       "  'Website': 7,\n",
       "  'Đến trung tâm': 8},\n",
       " 'Giao cho nhân viên Sale': {'Cúc': 0,\n",
       "  'Duyên ': 1,\n",
       "  'Linh': 2,\n",
       "  'Loan': 3,\n",
       "  'Phương': 4,\n",
       "  'Thu': 5,\n",
       "  'Thảo': 6,\n",
       "  'Yến': 7,\n",
       "  'Ánh': 8},\n",
       " 'Kế hoạch tiếp theo': {'Chốt': 0, 'Từ chối': 1},\n",
       " 'Đã test': {'Có': 0, 'Không': 1}}"
      ]
     },
     "execution_count": 122,
     "metadata": {},
     "output_type": "execute_result"
    }
   ],
   "source": [
    "encoded_mapping"
   ]
  },
  {
   "cell_type": "code",
   "execution_count": 123,
   "metadata": {},
   "outputs": [
    {
     "name": "stdout",
     "output_type": "stream",
     "text": [
      "{'Nguồn': 2, 'Giao cho nhân viên Sale': 5, 'Kế hoạch tiếp theo': 0, 'Đã test': 0}\n"
     ]
    }
   ],
   "source": [
    "import json\n",
    "\n",
    "# Dữ liệu mẫu\n",
    "encoding_dict = {\n",
    "    'Nguồn': {\n",
    "        'Data cũ': 0, 'Data mua': 1, 'Fanpage': 2, 'HV giới thiệu': 3,\n",
    "        'Hotline': 4, 'Người quen': 5, 'Seeding': 6, 'Website': 7, 'Đến trung tâm': 8\n",
    "    },\n",
    "    'Giao cho nhân viên Sale': {\n",
    "        'Cúc': 0, 'Duyên ': 1, 'Linh': 2, 'Loan': 3, 'Phương': 4,\n",
    "        'Thu': 5, 'Thảo': 6, 'Yến': 7, 'Ánh': 8\n",
    "    },\n",
    "    'Kế hoạch tiếp theo': {'Chốt': 0, 'Từ chối': 1},\n",
    "    'Đã test': {'Có': 0, 'Không': 1},\n",
    "    'Facebook':{'Có':1,'Không':0},\n",
    "    'SĐT':{'Có':1,'Không':0},\n",
    "    'Zalo':{'Có':1,'Không':0}\n",
    "}\n",
    "\n",
    "# Lưu vào tệp JSON\n",
    "with open('encoding_mapping.json', 'w', encoding='utf-8') as file:\n",
    "    json.dump(encoding_dict, file, ensure_ascii=False, indent=4)\n",
    "# Đọc dữ liệu từ tệp JSON\n",
    "with open('encoding_mapping.json', 'r', encoding='utf-8') as file:\n",
    "    encoding_mapping = json.load(file)\n",
    "\n",
    "# Ví dụ: Mã hóa dữ liệu mới\n",
    "def encode_value(column, value):\n",
    "    if column in encoding_mapping and value in encoding_mapping[column]:\n",
    "        return encoding_mapping[column][value]\n",
    "    else:\n",
    "        return None  # Giá trị không tồn tại trong bảng mã hóa\n",
    "\n",
    "# Sử dụng hàm để mã hóa giá trị mới\n",
    "new_data = {\n",
    "    'Nguồn': 'Fanpage',\n",
    "    'Giao cho nhân viên Sale': 'Thu',\n",
    "    'Kế hoạch tiếp theo': 'Chốt',\n",
    "    'Đã test': 'Có'\n",
    "}\n",
    "\n",
    "encoded_data = {col: encode_value(col, val) for col, val in new_data.items()}\n",
    "print(encoded_data)\n"
   ]
  },
  {
   "cell_type": "code",
   "execution_count": 124,
   "metadata": {},
   "outputs": [
    {
     "name": "stdout",
     "output_type": "stream",
     "text": [
      "[2, 3, 0, 0, 1, 7]\n"
     ]
    }
   ],
   "source": [
    "encoding_dict = {\n",
    "    'Data cũ': 0, 'Data mua': 1, 'Fanpage': 2, 'HV giới thiệu': 3,\n",
    "    'Hotline': 4, 'Người quen': 5, 'Seeding': 6, 'Website': 7, 'Đến trung tâm': 8,\n",
    "    'Cúc': 0, 'Duyên ': 1, 'Linh': 2, 'Loan': 3, 'Phương': 4,\n",
    "    'Thu': 5, 'Thảo': 6, 'Yến': 7, 'Ánh': 8,\n",
    "    'Chốt': 0, 'Từ chối': 1,\n",
    "    'Có': 0, 'Không': 1\n",
    "}\n",
    "\n",
    "# Hàm để tra cứu bảng mã hóa\n",
    "def map_value(value):\n",
    "    return encoding_dict.get(value, None)  # Trả về `None` nếu không tìm thấy trong bảng mã hóa\n",
    "\n",
    "# Dữ liệu mới cần ánh xạ\n",
    "new_data = ['Fanpage', 'Loan', 'Chốt', 'Có', 'Không', 'Website']\n",
    "\n",
    "# Ánh xạ dữ liệu mới bằng cách sử dụng hàm `map_value`\n",
    "mapped_data = [map_value(value) for value in new_data]\n",
    "\n",
    "# Hiển thị dữ liệu đã được ánh xạ\n",
    "print(mapped_data)"
   ]
  },
  {
   "cell_type": "markdown",
   "metadata": {},
   "source": [
    "Desicions Tree"
   ]
  },
  {
   "cell_type": "code",
   "execution_count": 125,
   "metadata": {},
   "outputs": [],
   "source": [
    "# X = df_tree.drop('Kế hoạch tiếp theo', axis=1)\n",
    "# y = df_tree['Kế hoạch tiếp theo']\n",
    "\n",
    "# # Chia dữ liệu thành tập huấn luyện và tập kiểm tra(train 80% , test 20%)\n",
    "# X_train, X_test, y_train, y_test = train_test_split(X, y, test_size=0.2, random_state=42)"
   ]
  },
  {
   "cell_type": "code",
   "execution_count": 126,
   "metadata": {},
   "outputs": [
    {
     "name": "stdout",
     "output_type": "stream",
     "text": [
      "Mean Accuracy: 83.72%\n"
     ]
    }
   ],
   "source": [
    "from sklearn.model_selection import KFold\n",
    "from sklearn.tree import DecisionTreeClassifier\n",
    "from sklearn.metrics import accuracy_score\n",
    "import numpy as np\n",
    "\n",
    "X = df_tree.drop('Kế hoạch tiếp theo', axis=1)\n",
    "new_order = ['Nguồn', 'Giao cho nhân viên Sale', 'Đã test', 'Facebook', 'SĐT', 'Zalo', 'Tuổi', 'Tháng Liên hệ']\n",
    "X = X[new_order]\n",
    "y = df_tree['Kế hoạch tiếp theo']\n",
    "\n",
    "# Khởi tạo mô hình DecisionTreeClassifier\n",
    "clf = DecisionTreeClassifier(criterion='entropy', splitter='best')\n",
    "\n",
    "# Sử dụng KFold để chia dữ liệu\n",
    "kf = KFold(n_splits=10, shuffle=True, random_state=42)\n",
    "accuracies = []\n",
    "\n",
    "# Lặp qua từng fold\n",
    "for train_index, test_index in kf.split(X):\n",
    "    X_train, X_test = X.iloc[train_index], X.iloc[test_index]\n",
    "    y_train, y_test = y.iloc[train_index], y.iloc[test_index]\n",
    "\n",
    "    # Huấn luyện mô hình trên tập huấn luyện\n",
    "    clf.fit(X_train, y_train)\n",
    "\n",
    "    # Dự đoán trên tập kiểm tra\n",
    "    y_pred = clf.predict(X_test)\n",
    "\n",
    "    # Đánh giá độ chính xác\n",
    "    accuracy = accuracy_score(y_test, y_pred)\n",
    "    accuracies.append(accuracy)\n",
    "\n",
    "# In độ chính xác trung bình sau tất cả các lần lặp\n",
    "print(\"Mean Accuracy: {:.2f}%\".format(100 * np.mean(accuracies)))\n"
   ]
  },
  {
   "cell_type": "code",
   "execution_count": 127,
   "metadata": {},
   "outputs": [
    {
     "data": {
      "text/html": [
       "<div>\n",
       "<style scoped>\n",
       "    .dataframe tbody tr th:only-of-type {\n",
       "        vertical-align: middle;\n",
       "    }\n",
       "\n",
       "    .dataframe tbody tr th {\n",
       "        vertical-align: top;\n",
       "    }\n",
       "\n",
       "    .dataframe thead th {\n",
       "        text-align: right;\n",
       "    }\n",
       "</style>\n",
       "<table border=\"1\" class=\"dataframe\">\n",
       "  <thead>\n",
       "    <tr style=\"text-align: right;\">\n",
       "      <th></th>\n",
       "      <th>Nguồn</th>\n",
       "      <th>Giao cho nhân viên Sale</th>\n",
       "      <th>Đã test</th>\n",
       "      <th>Facebook</th>\n",
       "      <th>SĐT</th>\n",
       "      <th>Zalo</th>\n",
       "      <th>Tuổi</th>\n",
       "      <th>Tháng Liên hệ</th>\n",
       "    </tr>\n",
       "  </thead>\n",
       "  <tbody>\n",
       "    <tr>\n",
       "      <th>1</th>\n",
       "      <td>2</td>\n",
       "      <td>5</td>\n",
       "      <td>0</td>\n",
       "      <td>1</td>\n",
       "      <td>1</td>\n",
       "      <td>0</td>\n",
       "      <td>11.0</td>\n",
       "      <td>5.0</td>\n",
       "    </tr>\n",
       "    <tr>\n",
       "      <th>13</th>\n",
       "      <td>2</td>\n",
       "      <td>8</td>\n",
       "      <td>1</td>\n",
       "      <td>0</td>\n",
       "      <td>1</td>\n",
       "      <td>0</td>\n",
       "      <td>10.0</td>\n",
       "      <td>5.0</td>\n",
       "    </tr>\n",
       "    <tr>\n",
       "      <th>20</th>\n",
       "      <td>0</td>\n",
       "      <td>2</td>\n",
       "      <td>0</td>\n",
       "      <td>0</td>\n",
       "      <td>1</td>\n",
       "      <td>0</td>\n",
       "      <td>11.0</td>\n",
       "      <td>5.0</td>\n",
       "    </tr>\n",
       "    <tr>\n",
       "      <th>21</th>\n",
       "      <td>0</td>\n",
       "      <td>8</td>\n",
       "      <td>1</td>\n",
       "      <td>0</td>\n",
       "      <td>1</td>\n",
       "      <td>1</td>\n",
       "      <td>7.0</td>\n",
       "      <td>5.0</td>\n",
       "    </tr>\n",
       "    <tr>\n",
       "      <th>34</th>\n",
       "      <td>2</td>\n",
       "      <td>1</td>\n",
       "      <td>1</td>\n",
       "      <td>0</td>\n",
       "      <td>1</td>\n",
       "      <td>0</td>\n",
       "      <td>10.0</td>\n",
       "      <td>5.0</td>\n",
       "    </tr>\n",
       "    <tr>\n",
       "      <th>...</th>\n",
       "      <td>...</td>\n",
       "      <td>...</td>\n",
       "      <td>...</td>\n",
       "      <td>...</td>\n",
       "      <td>...</td>\n",
       "      <td>...</td>\n",
       "      <td>...</td>\n",
       "      <td>...</td>\n",
       "    </tr>\n",
       "    <tr>\n",
       "      <th>875</th>\n",
       "      <td>6</td>\n",
       "      <td>8</td>\n",
       "      <td>1</td>\n",
       "      <td>0</td>\n",
       "      <td>1</td>\n",
       "      <td>0</td>\n",
       "      <td>10.0</td>\n",
       "      <td>10.0</td>\n",
       "    </tr>\n",
       "    <tr>\n",
       "      <th>896</th>\n",
       "      <td>2</td>\n",
       "      <td>8</td>\n",
       "      <td>1</td>\n",
       "      <td>0</td>\n",
       "      <td>1</td>\n",
       "      <td>0</td>\n",
       "      <td>11.0</td>\n",
       "      <td>11.0</td>\n",
       "    </tr>\n",
       "    <tr>\n",
       "      <th>938</th>\n",
       "      <td>2</td>\n",
       "      <td>8</td>\n",
       "      <td>1</td>\n",
       "      <td>0</td>\n",
       "      <td>1</td>\n",
       "      <td>0</td>\n",
       "      <td>9.0</td>\n",
       "      <td>12.0</td>\n",
       "    </tr>\n",
       "    <tr>\n",
       "      <th>940</th>\n",
       "      <td>2</td>\n",
       "      <td>8</td>\n",
       "      <td>1</td>\n",
       "      <td>0</td>\n",
       "      <td>1</td>\n",
       "      <td>0</td>\n",
       "      <td>10.0</td>\n",
       "      <td>12.0</td>\n",
       "    </tr>\n",
       "    <tr>\n",
       "      <th>950</th>\n",
       "      <td>2</td>\n",
       "      <td>8</td>\n",
       "      <td>1</td>\n",
       "      <td>0</td>\n",
       "      <td>1</td>\n",
       "      <td>0</td>\n",
       "      <td>10.0</td>\n",
       "      <td>6.0</td>\n",
       "    </tr>\n",
       "  </tbody>\n",
       "</table>\n",
       "<p>95 rows × 8 columns</p>\n",
       "</div>"
      ],
      "text/plain": [
       "     Nguồn  Giao cho nhân viên Sale  Đã test  Facebook  SĐT  Zalo  Tuổi  \\\n",
       "1        2                        5        0         1    1     0  11.0   \n",
       "13       2                        8        1         0    1     0  10.0   \n",
       "20       0                        2        0         0    1     0  11.0   \n",
       "21       0                        8        1         0    1     1   7.0   \n",
       "34       2                        1        1         0    1     0  10.0   \n",
       "..     ...                      ...      ...       ...  ...   ...   ...   \n",
       "875      6                        8        1         0    1     0  10.0   \n",
       "896      2                        8        1         0    1     0  11.0   \n",
       "938      2                        8        1         0    1     0   9.0   \n",
       "940      2                        8        1         0    1     0  10.0   \n",
       "950      2                        8        1         0    1     0  10.0   \n",
       "\n",
       "     Tháng Liên hệ  \n",
       "1              5.0  \n",
       "13             5.0  \n",
       "20             5.0  \n",
       "21             5.0  \n",
       "34             5.0  \n",
       "..             ...  \n",
       "875           10.0  \n",
       "896           11.0  \n",
       "938           12.0  \n",
       "940           12.0  \n",
       "950            6.0  \n",
       "\n",
       "[95 rows x 8 columns]"
      ]
     },
     "execution_count": 127,
     "metadata": {},
     "output_type": "execute_result"
    }
   ],
   "source": [
    "X_test"
   ]
  },
  {
   "cell_type": "code",
   "execution_count": 128,
   "metadata": {},
   "outputs": [
    {
     "name": "stderr",
     "output_type": "stream",
     "text": [
      "c:\\Users\\ADMIN\\anaconda3\\Lib\\site-packages\\sklearn\\base.py:493: UserWarning: X does not have valid feature names, but DecisionTreeClassifier was fitted with feature names\n",
      "  warnings.warn(\n"
     ]
    },
    {
     "data": {
      "text/plain": [
       "array([0])"
      ]
     },
     "execution_count": 128,
     "metadata": {},
     "output_type": "execute_result"
    }
   ],
   "source": [
    "import numpy as np\n",
    "features = ['Fanpage', 'Thu', 'Có','Có','Không','Không']\n",
    "nume = [15,3]\n",
    "mapped_data = [map_value(value) for value in features]\n",
    "all_features = np.hstack((mapped_data,nume))\n",
    "\n",
    "prediction = clf.predict(all_features.reshape(1, -1))\n",
    "prediction"
   ]
  },
  {
   "cell_type": "code",
   "execution_count": 129,
   "metadata": {},
   "outputs": [
    {
     "data": {
      "text/plain": [
       "array([ 2,  5,  0,  0,  1,  1, 15,  3])"
      ]
     },
     "execution_count": 129,
     "metadata": {},
     "output_type": "execute_result"
    }
   ],
   "source": [
    "all_features"
   ]
  },
  {
   "cell_type": "code",
   "execution_count": 130,
   "metadata": {},
   "outputs": [
    {
     "data": {
      "text/plain": [
       "array([[ 2,  5,  0,  0,  1,  1, 15,  3]])"
      ]
     },
     "execution_count": 130,
     "metadata": {},
     "output_type": "execute_result"
    }
   ],
   "source": [
    "all_features.reshape(1, -1)"
   ]
  },
  {
   "cell_type": "code",
   "execution_count": 131,
   "metadata": {},
   "outputs": [
    {
     "data": {
      "text/plain": [
       "['decision_tree_model.joblib']"
      ]
     },
     "execution_count": 131,
     "metadata": {},
     "output_type": "execute_result"
    }
   ],
   "source": [
    "import joblib\n",
    "joblib.dump(clf,'decision_tree_model.joblib')"
   ]
  },
  {
   "cell_type": "code",
   "execution_count": 132,
   "metadata": {},
   "outputs": [
    {
     "name": "stdout",
     "output_type": "stream",
     "text": [
      "Feature 0: Gain Ratio = 0.09142869705542836\n",
      "Feature 1: Gain Ratio = 0.11803250802518282\n",
      "Feature 2: Gain Ratio = 0.3919250759002415\n",
      "Feature 3: Gain Ratio = 0.0036687693580724967\n",
      "Feature 4: Gain Ratio = 0.0\n",
      "Feature 5: Gain Ratio = 0.006819701395666669\n",
      "Feature 6: Gain Ratio = 0.22491331812785062\n",
      "Feature 7: Gain Ratio = 0.16321193013755753\n"
     ]
    }
   ],
   "source": [
    "# Hiển thị gain ratio cho mỗi đặc trưng\n",
    "gain_ratios = clf.feature_importances_\n",
    "for i, ratio in enumerate(gain_ratios):\n",
    "    print(f\"Feature {i}: Gain Ratio = {ratio}\")"
   ]
  },
  {
   "cell_type": "code",
   "execution_count": 133,
   "metadata": {},
   "outputs": [
    {
     "data": {
      "image/png": "[encoded data removed]",
      "text/plain": [
       "<Figure size 800x500 with 2 Axes>"
      ]
     },
     "metadata": {},
     "output_type": "display_data"
    }
   ],
   "source": [
    "from sklearn.metrics import confusion_matrix,classification_report,accuracy_score,roc_auc_score,f1_score\n",
    "import matplotlib.pyplot as plt\n",
    "import seaborn as sns\n",
    "cm = confusion_matrix(y_test,y_pred)\n",
    "conf_matrix=pd.DataFrame(data=cm,columns=['Actual:1','Actual:0'],index=['Predicted:1','Predicted:0'])\n",
    "plt.figure(figsize = (8,5))\n",
    "sns.heatmap(conf_matrix, annot=True,fmt='d')\n",
    "plt.show()"
   ]
  },
  {
   "cell_type": "code",
   "execution_count": 134,
   "metadata": {},
   "outputs": [],
   "source": [
    "# # Vẽ cây quyết định\n",
    "# dot_data = export_graphviz(clf, out_file=None, feature_names=X.columns, class_names=['0', '1'], filled=True)\n",
    "# graph = graphviz.Source(dot_data)\n",
    "# graph.render(\"heart_treec_4.5\")"
   ]
  },
  {
   "cell_type": "code",
   "execution_count": null,
   "metadata": {},
   "outputs": [],
   "source": []
  }
 ],
 "metadata": {
  "kernelspec": {
   "display_name": "base",
   "language": "python",
   "name": "python3"
  },
  "language_info": {
   "codemirror_mode": {
    "name": "ipython",
    "version": 3
   },
   "file_extension": ".py",
   "mimetype": "text/x-python",
   "name": "python",
   "nbconvert_exporter": "python",
   "pygments_lexer": "ipython3",
   "version": "3.11.5"
  }
 },
 "nbformat": 4,
 "nbformat_minor": 2
}
